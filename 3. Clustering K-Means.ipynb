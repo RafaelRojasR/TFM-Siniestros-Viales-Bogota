{
 "cells": [
  {
   "cell_type": "code",
   "execution_count": 2,
   "id": "18e5dc58",
   "metadata": {},
   "outputs": [],
   "source": [
    "import numpy as np\n",
    "import pandas as pd\n",
    "from sklearn.cluster import KMeans\n",
    "from sklearn.metrics import pairwise_distances_argmin_min\n",
    "import seaborn as sb\n",
    "import matplotlib.pyplot as plt"
   ]
  },
  {
   "cell_type": "markdown",
   "id": "2592ec58",
   "metadata": {},
   "source": [
    "# 3. K-Means."
   ]
  },
  {
   "cell_type": "markdown",
   "id": "b8980358",
   "metadata": {},
   "source": [
    "<h3> 3.1. Clustering Geográfico. </h3>"
   ]
  },
  {
   "cell_type": "code",
   "execution_count": 3,
   "id": "f5f60d71",
   "metadata": {},
   "outputs": [],
   "source": [
    "#Cargue de dataframe\n",
    "df_sin_meteo = pd.read_excel(\"Datos/DF_SIN_Meteo.xlsx\")\n",
    "\n",
    "#Selección de variables a aplicar\n",
    "coord = df_sin_meteo[['LATITUD','LONGITUD']].dropna().reset_index(drop=True)\n",
    "\n",
    "#Creación de arreglo con valores de coordenadas\n",
    "X = np.array(coord)\n",
    "\n",
    "#Elbow Curve: Determinación de número de clústeres ideales.\n",
    "Nc = range(1, 30)\n",
    "kmeans = [KMeans(n_clusters=i) for i in Nc]\n",
    "score = [kmeans[i].fit(X).score(X) for i in range(len(kmeans))]"
   ]
  },
  {
   "cell_type": "code",
   "execution_count": 4,
   "id": "a987c9fe",
   "metadata": {},
   "outputs": [
    {
     "name": "stdout",
     "output_type": "stream",
     "text": [
      "- N_Cluster Local:  11 \n",
      "- Var Cluster:  9.977035817636422\n"
     ]
    }
   ],
   "source": [
    "#Selección de número de K-Clústeres\n",
    "elbow_df = pd.DataFrame({'Clusters':Nc,'Score':score})\n",
    "\n",
    "for i in range(len(elbow_df)):\n",
    "    if elbow_df.loc[i,'Clusters'] == 1:\n",
    "        elbow_df.loc[i,'Var'] = 0\n",
    "        elbow_df.loc[i,'Var_Diff'] = 0\n",
    "    else:\n",
    "        elbow_df.loc[i,'Var'] = abs((abs(elbow_df.loc[i,'Score'] - elbow_df.loc[i-1,'Score']) / elbow_df.loc[i-1,'Score']) * 100)\n",
    "        elbow_df.loc[i,'Var_Diff'] = abs(elbow_df.loc[i,'Var'] - elbow_df.loc[i-1,'Var'])\n",
    "\n",
    "cont = -1\n",
    "for i in elbow_df['Var']:\n",
    "    cont += 1\n",
    "    if i == 0:\n",
    "        continue\n",
    "    elif i < 10:\n",
    "        n_cluster = cont\n",
    "        score_cluster = i\n",
    "        break\n",
    "\n",
    "print(\"- N_Cluster Local: \",n_cluster+1,\"\\n- Var Cluster: \",score_cluster)"
   ]
  },
  {
   "cell_type": "code",
   "execution_count": 5,
   "id": "2922b269",
   "metadata": {
    "scrolled": true
   },
   "outputs": [
    {
     "data": {
      "text/html": [
       "<div>\n",
       "<style scoped>\n",
       "    .dataframe tbody tr th:only-of-type {\n",
       "        vertical-align: middle;\n",
       "    }\n",
       "\n",
       "    .dataframe tbody tr th {\n",
       "        vertical-align: top;\n",
       "    }\n",
       "\n",
       "    .dataframe thead th {\n",
       "        text-align: right;\n",
       "    }\n",
       "</style>\n",
       "<table border=\"1\" class=\"dataframe\">\n",
       "  <thead>\n",
       "    <tr style=\"text-align: right;\">\n",
       "      <th></th>\n",
       "      <th>Clusters</th>\n",
       "      <th>Score</th>\n",
       "      <th>Var</th>\n",
       "      <th>Var_Diff</th>\n",
       "    </tr>\n",
       "  </thead>\n",
       "  <tbody>\n",
       "    <tr>\n",
       "      <th>0</th>\n",
       "      <td>1</td>\n",
       "      <td>-1552.549925</td>\n",
       "      <td>0.000000</td>\n",
       "      <td>0.000000</td>\n",
       "    </tr>\n",
       "    <tr>\n",
       "      <th>1</th>\n",
       "      <td>2</td>\n",
       "      <td>-714.969221</td>\n",
       "      <td>53.948713</td>\n",
       "      <td>53.948713</td>\n",
       "    </tr>\n",
       "    <tr>\n",
       "      <th>2</th>\n",
       "      <td>3</td>\n",
       "      <td>-534.795954</td>\n",
       "      <td>25.200143</td>\n",
       "      <td>28.748570</td>\n",
       "    </tr>\n",
       "    <tr>\n",
       "      <th>3</th>\n",
       "      <td>4</td>\n",
       "      <td>-403.325043</td>\n",
       "      <td>24.583378</td>\n",
       "      <td>0.616765</td>\n",
       "    </tr>\n",
       "    <tr>\n",
       "      <th>4</th>\n",
       "      <td>5</td>\n",
       "      <td>-309.489596</td>\n",
       "      <td>23.265465</td>\n",
       "      <td>1.317913</td>\n",
       "    </tr>\n",
       "    <tr>\n",
       "      <th>5</th>\n",
       "      <td>6</td>\n",
       "      <td>-242.373782</td>\n",
       "      <td>21.685968</td>\n",
       "      <td>1.579497</td>\n",
       "    </tr>\n",
       "    <tr>\n",
       "      <th>6</th>\n",
       "      <td>7</td>\n",
       "      <td>-209.126797</td>\n",
       "      <td>13.717236</td>\n",
       "      <td>7.968731</td>\n",
       "    </tr>\n",
       "    <tr>\n",
       "      <th>7</th>\n",
       "      <td>8</td>\n",
       "      <td>-186.375629</td>\n",
       "      <td>10.879126</td>\n",
       "      <td>2.838110</td>\n",
       "    </tr>\n",
       "    <tr>\n",
       "      <th>8</th>\n",
       "      <td>9</td>\n",
       "      <td>-167.132391</td>\n",
       "      <td>10.324976</td>\n",
       "      <td>0.554151</td>\n",
       "    </tr>\n",
       "    <tr>\n",
       "      <th>9</th>\n",
       "      <td>10</td>\n",
       "      <td>-148.893956</td>\n",
       "      <td>10.912567</td>\n",
       "      <td>0.587592</td>\n",
       "    </tr>\n",
       "    <tr>\n",
       "      <th>10</th>\n",
       "      <td>11</td>\n",
       "      <td>-134.038753</td>\n",
       "      <td>9.977036</td>\n",
       "      <td>0.935531</td>\n",
       "    </tr>\n",
       "    <tr>\n",
       "      <th>11</th>\n",
       "      <td>12</td>\n",
       "      <td>-121.133101</td>\n",
       "      <td>9.628299</td>\n",
       "      <td>0.348736</td>\n",
       "    </tr>\n",
       "    <tr>\n",
       "      <th>12</th>\n",
       "      <td>13</td>\n",
       "      <td>-111.860662</td>\n",
       "      <td>7.654752</td>\n",
       "      <td>1.973547</td>\n",
       "    </tr>\n",
       "    <tr>\n",
       "      <th>13</th>\n",
       "      <td>14</td>\n",
       "      <td>-102.902041</td>\n",
       "      <td>8.008732</td>\n",
       "      <td>0.353980</td>\n",
       "    </tr>\n",
       "    <tr>\n",
       "      <th>14</th>\n",
       "      <td>15</td>\n",
       "      <td>-95.529990</td>\n",
       "      <td>7.164144</td>\n",
       "      <td>0.844588</td>\n",
       "    </tr>\n",
       "    <tr>\n",
       "      <th>15</th>\n",
       "      <td>16</td>\n",
       "      <td>-88.640410</td>\n",
       "      <td>7.211955</td>\n",
       "      <td>0.047811</td>\n",
       "    </tr>\n",
       "    <tr>\n",
       "      <th>16</th>\n",
       "      <td>17</td>\n",
       "      <td>-83.558507</td>\n",
       "      <td>5.733168</td>\n",
       "      <td>1.478788</td>\n",
       "    </tr>\n",
       "    <tr>\n",
       "      <th>17</th>\n",
       "      <td>18</td>\n",
       "      <td>-79.177636</td>\n",
       "      <td>5.242878</td>\n",
       "      <td>0.490290</td>\n",
       "    </tr>\n",
       "    <tr>\n",
       "      <th>18</th>\n",
       "      <td>19</td>\n",
       "      <td>-74.657066</td>\n",
       "      <td>5.709403</td>\n",
       "      <td>0.466525</td>\n",
       "    </tr>\n",
       "    <tr>\n",
       "      <th>19</th>\n",
       "      <td>20</td>\n",
       "      <td>-70.569113</td>\n",
       "      <td>5.475641</td>\n",
       "      <td>0.233762</td>\n",
       "    </tr>\n",
       "    <tr>\n",
       "      <th>20</th>\n",
       "      <td>21</td>\n",
       "      <td>-67.069310</td>\n",
       "      <td>4.959397</td>\n",
       "      <td>0.516244</td>\n",
       "    </tr>\n",
       "    <tr>\n",
       "      <th>21</th>\n",
       "      <td>22</td>\n",
       "      <td>-63.393464</td>\n",
       "      <td>5.480667</td>\n",
       "      <td>0.521270</td>\n",
       "    </tr>\n",
       "    <tr>\n",
       "      <th>22</th>\n",
       "      <td>23</td>\n",
       "      <td>-59.880080</td>\n",
       "      <td>5.542186</td>\n",
       "      <td>0.061518</td>\n",
       "    </tr>\n",
       "    <tr>\n",
       "      <th>23</th>\n",
       "      <td>24</td>\n",
       "      <td>-57.668429</td>\n",
       "      <td>3.693468</td>\n",
       "      <td>1.848718</td>\n",
       "    </tr>\n",
       "    <tr>\n",
       "      <th>24</th>\n",
       "      <td>25</td>\n",
       "      <td>-55.334170</td>\n",
       "      <td>4.047724</td>\n",
       "      <td>0.354256</td>\n",
       "    </tr>\n",
       "    <tr>\n",
       "      <th>25</th>\n",
       "      <td>26</td>\n",
       "      <td>-53.392227</td>\n",
       "      <td>3.509482</td>\n",
       "      <td>0.538242</td>\n",
       "    </tr>\n",
       "    <tr>\n",
       "      <th>26</th>\n",
       "      <td>27</td>\n",
       "      <td>-51.566483</td>\n",
       "      <td>3.419495</td>\n",
       "      <td>0.089987</td>\n",
       "    </tr>\n",
       "    <tr>\n",
       "      <th>27</th>\n",
       "      <td>28</td>\n",
       "      <td>-49.644276</td>\n",
       "      <td>3.727629</td>\n",
       "      <td>0.308134</td>\n",
       "    </tr>\n",
       "    <tr>\n",
       "      <th>28</th>\n",
       "      <td>29</td>\n",
       "      <td>-47.847290</td>\n",
       "      <td>3.619725</td>\n",
       "      <td>0.107904</td>\n",
       "    </tr>\n",
       "  </tbody>\n",
       "</table>\n",
       "</div>"
      ],
      "text/plain": [
       "    Clusters        Score        Var   Var_Diff\n",
       "0          1 -1552.549925   0.000000   0.000000\n",
       "1          2  -714.969221  53.948713  53.948713\n",
       "2          3  -534.795954  25.200143  28.748570\n",
       "3          4  -403.325043  24.583378   0.616765\n",
       "4          5  -309.489596  23.265465   1.317913\n",
       "5          6  -242.373782  21.685968   1.579497\n",
       "6          7  -209.126797  13.717236   7.968731\n",
       "7          8  -186.375629  10.879126   2.838110\n",
       "8          9  -167.132391  10.324976   0.554151\n",
       "9         10  -148.893956  10.912567   0.587592\n",
       "10        11  -134.038753   9.977036   0.935531\n",
       "11        12  -121.133101   9.628299   0.348736\n",
       "12        13  -111.860662   7.654752   1.973547\n",
       "13        14  -102.902041   8.008732   0.353980\n",
       "14        15   -95.529990   7.164144   0.844588\n",
       "15        16   -88.640410   7.211955   0.047811\n",
       "16        17   -83.558507   5.733168   1.478788\n",
       "17        18   -79.177636   5.242878   0.490290\n",
       "18        19   -74.657066   5.709403   0.466525\n",
       "19        20   -70.569113   5.475641   0.233762\n",
       "20        21   -67.069310   4.959397   0.516244\n",
       "21        22   -63.393464   5.480667   0.521270\n",
       "22        23   -59.880080   5.542186   0.061518\n",
       "23        24   -57.668429   3.693468   1.848718\n",
       "24        25   -55.334170   4.047724   0.354256\n",
       "25        26   -53.392227   3.509482   0.538242\n",
       "26        27   -51.566483   3.419495   0.089987\n",
       "27        28   -49.644276   3.727629   0.308134\n",
       "28        29   -47.847290   3.619725   0.107904"
      ]
     },
     "execution_count": 5,
     "metadata": {},
     "output_type": "execute_result"
    }
   ],
   "source": [
    "elbow_df"
   ]
  },
  {
   "cell_type": "code",
   "execution_count": 6,
   "id": "5d2bb2c3",
   "metadata": {},
   "outputs": [
    {
     "data": {
      "image/png": "[encoded data removed]",
      "text/plain": [
       "<Figure size 640x480 with 1 Axes>"
      ]
     },
     "metadata": {},
     "output_type": "display_data"
    }
   ],
   "source": [
    "plt.plot(Nc,score)\n",
    "plt.xlabel('N-Clústeres')\n",
    "plt.ylabel('Score')\n",
    "plt.title('Elbow - df_sin_meteo')\n",
    "plt.axvline(x = n_cluster+1, color = 'red', label = 'axvline - full height')\n",
    "plt.show()"
   ]
  },
  {
   "cell_type": "code",
   "execution_count": 7,
   "id": "c3fb026c",
   "metadata": {},
   "outputs": [],
   "source": [
    "#Aplicación K-Means\n",
    "kmeans = KMeans(n_clusters = n_cluster+1).fit(X)\n",
    "centroids = kmeans.cluster_centers_\n",
    "\n",
    "# Predicting the clusters\n",
    "labels = kmeans.predict(X)"
   ]
  },
  {
   "cell_type": "code",
   "execution_count": 8,
   "id": "8851b9a4",
   "metadata": {},
   "outputs": [
    {
     "data": {
      "text/plain": [
       "(325958, 17)"
      ]
     },
     "execution_count": 8,
     "metadata": {},
     "output_type": "execute_result"
    }
   ],
   "source": [
    "df_sin_meteo = df_sin_meteo.dropna(subset=['LONGITUD','LATITUD']).reset_index(drop=True)\n",
    "df_sin_meteo.shape"
   ]
  },
  {
   "cell_type": "code",
   "execution_count": 9,
   "id": "5bca5cda",
   "metadata": {},
   "outputs": [
    {
     "data": {
      "text/plain": [
       "(325958,)"
      ]
     },
     "execution_count": 9,
     "metadata": {},
     "output_type": "execute_result"
    }
   ],
   "source": [
    "labels.shape"
   ]
  },
  {
   "cell_type": "code",
   "execution_count": 10,
   "id": "c52a56ca",
   "metadata": {},
   "outputs": [],
   "source": [
    "df_sin_meteo['Cluster'] = labels"
   ]
  },
  {
   "cell_type": "markdown",
   "id": "773accc5",
   "metadata": {},
   "source": [
    "<h3> 3.2. Clustering Multivariado. </h3>"
   ]
  },
  {
   "cell_type": "code",
   "execution_count": 11,
   "id": "10db2b3a",
   "metadata": {},
   "outputs": [],
   "source": [
    "#Cargue de dataframe\n",
    "df_meteo = pd.read_excel(\"Datos/DF_Meteo.xlsx\")\n",
    "\n",
    "#Selección de variables a aplicar\n",
    "base = df_meteo[['LATITUD','LONGITUD','RADIACION','EDAD']].dropna().reset_index(drop=True)\n",
    "\n",
    "#Creación de arreglo con valores de coordenadas\n",
    "X = np.array(base)\n",
    "\n",
    "#Elbow Curve: Determinación de número de clústeres ideales.\n",
    "Nc = range(1, 30)\n",
    "kmeans2 = [KMeans(n_clusters=i) for i in Nc]\n",
    "score2 = [kmeans2[i].fit(X).score(X) for i in range(len(kmeans2))]"
   ]
  },
  {
   "cell_type": "code",
   "execution_count": 12,
   "id": "300f12cf",
   "metadata": {},
   "outputs": [
    {
     "name": "stdout",
     "output_type": "stream",
     "text": [
      "- N_Cluster Local:  10 \n",
      "- Var Cluster:  9.994561609244498\n"
     ]
    }
   ],
   "source": [
    "#Selección de número de K-Clústeres\n",
    "elbow_df2 = pd.DataFrame({'Clusters':Nc,'Score':score2})\n",
    "\n",
    "for i in range(len(elbow_df2)):\n",
    "    if elbow_df2.loc[i,'Clusters'] == 1:\n",
    "        elbow_df2.loc[i,'Var'] = 0\n",
    "        elbow_df2.loc[i,'Var_Diff'] = 0\n",
    "    else:\n",
    "        elbow_df2.loc[i,'Var'] = abs((abs(elbow_df2.loc[i,'Score'] - elbow_df2.loc[i-1,'Score']) / elbow_df2.loc[i-1,'Score']) * 100)\n",
    "        elbow_df2.loc[i,'Var_Diff'] = abs(elbow_df2.loc[i,'Var'] - elbow_df2.loc[i-1,'Var'])\n",
    "\n",
    "cont = -1\n",
    "for i in elbow_df2['Var']:\n",
    "    cont += 1\n",
    "    if i == 0:\n",
    "        continue\n",
    "    elif i < 10:\n",
    "        n_cluster2 = cont\n",
    "        score_cluster2 = i\n",
    "        break\n",
    "\n",
    "print(\"- N_Cluster Local: \",n_cluster2 + 1,\"\\n- Var Cluster: \",score_cluster2)"
   ]
  },
  {
   "cell_type": "code",
   "execution_count": 13,
   "id": "ec940afe",
   "metadata": {
    "scrolled": true
   },
   "outputs": [
    {
     "data": {
      "text/html": [
       "<div>\n",
       "<style scoped>\n",
       "    .dataframe tbody tr th:only-of-type {\n",
       "        vertical-align: middle;\n",
       "    }\n",
       "\n",
       "    .dataframe tbody tr th {\n",
       "        vertical-align: top;\n",
       "    }\n",
       "\n",
       "    .dataframe thead th {\n",
       "        text-align: right;\n",
       "    }\n",
       "</style>\n",
       "<table border=\"1\" class=\"dataframe\">\n",
       "  <thead>\n",
       "    <tr style=\"text-align: right;\">\n",
       "      <th></th>\n",
       "      <th>Clusters</th>\n",
       "      <th>Score</th>\n",
       "      <th>Var</th>\n",
       "      <th>Var_Diff</th>\n",
       "    </tr>\n",
       "  </thead>\n",
       "  <tbody>\n",
       "    <tr>\n",
       "      <th>0</th>\n",
       "      <td>1</td>\n",
       "      <td>-3.812308e+08</td>\n",
       "      <td>0.000000</td>\n",
       "      <td>0.000000</td>\n",
       "    </tr>\n",
       "    <tr>\n",
       "      <th>1</th>\n",
       "      <td>2</td>\n",
       "      <td>-1.344630e+08</td>\n",
       "      <td>64.729233</td>\n",
       "      <td>64.729233</td>\n",
       "    </tr>\n",
       "    <tr>\n",
       "      <th>2</th>\n",
       "      <td>3</td>\n",
       "      <td>-8.242405e+07</td>\n",
       "      <td>38.701322</td>\n",
       "      <td>26.027911</td>\n",
       "    </tr>\n",
       "    <tr>\n",
       "      <th>3</th>\n",
       "      <td>4</td>\n",
       "      <td>-6.010167e+07</td>\n",
       "      <td>27.082371</td>\n",
       "      <td>11.618951</td>\n",
       "    </tr>\n",
       "    <tr>\n",
       "      <th>4</th>\n",
       "      <td>5</td>\n",
       "      <td>-4.960244e+07</td>\n",
       "      <td>17.469118</td>\n",
       "      <td>9.613253</td>\n",
       "    </tr>\n",
       "    <tr>\n",
       "      <th>5</th>\n",
       "      <td>6</td>\n",
       "      <td>-4.305429e+07</td>\n",
       "      <td>13.201255</td>\n",
       "      <td>4.267863</td>\n",
       "    </tr>\n",
       "    <tr>\n",
       "      <th>6</th>\n",
       "      <td>7</td>\n",
       "      <td>-3.808886e+07</td>\n",
       "      <td>11.532959</td>\n",
       "      <td>1.668297</td>\n",
       "    </tr>\n",
       "    <tr>\n",
       "      <th>7</th>\n",
       "      <td>8</td>\n",
       "      <td>-3.347480e+07</td>\n",
       "      <td>12.113930</td>\n",
       "      <td>0.580971</td>\n",
       "    </tr>\n",
       "    <tr>\n",
       "      <th>8</th>\n",
       "      <td>9</td>\n",
       "      <td>-3.011317e+07</td>\n",
       "      <td>10.042277</td>\n",
       "      <td>2.071653</td>\n",
       "    </tr>\n",
       "    <tr>\n",
       "      <th>9</th>\n",
       "      <td>10</td>\n",
       "      <td>-2.710349e+07</td>\n",
       "      <td>9.994562</td>\n",
       "      <td>0.047716</td>\n",
       "    </tr>\n",
       "    <tr>\n",
       "      <th>10</th>\n",
       "      <td>11</td>\n",
       "      <td>-2.434671e+07</td>\n",
       "      <td>10.171321</td>\n",
       "      <td>0.176760</td>\n",
       "    </tr>\n",
       "    <tr>\n",
       "      <th>11</th>\n",
       "      <td>12</td>\n",
       "      <td>-2.229941e+07</td>\n",
       "      <td>8.408905</td>\n",
       "      <td>1.762416</td>\n",
       "    </tr>\n",
       "    <tr>\n",
       "      <th>12</th>\n",
       "      <td>13</td>\n",
       "      <td>-2.056704e+07</td>\n",
       "      <td>7.768708</td>\n",
       "      <td>0.640196</td>\n",
       "    </tr>\n",
       "    <tr>\n",
       "      <th>13</th>\n",
       "      <td>14</td>\n",
       "      <td>-1.914344e+07</td>\n",
       "      <td>6.921739</td>\n",
       "      <td>0.846969</td>\n",
       "    </tr>\n",
       "    <tr>\n",
       "      <th>14</th>\n",
       "      <td>15</td>\n",
       "      <td>-1.801725e+07</td>\n",
       "      <td>5.882914</td>\n",
       "      <td>1.038825</td>\n",
       "    </tr>\n",
       "    <tr>\n",
       "      <th>15</th>\n",
       "      <td>16</td>\n",
       "      <td>-1.709727e+07</td>\n",
       "      <td>5.106085</td>\n",
       "      <td>0.776829</td>\n",
       "    </tr>\n",
       "    <tr>\n",
       "      <th>16</th>\n",
       "      <td>17</td>\n",
       "      <td>-1.625809e+07</td>\n",
       "      <td>4.908290</td>\n",
       "      <td>0.197794</td>\n",
       "    </tr>\n",
       "    <tr>\n",
       "      <th>17</th>\n",
       "      <td>18</td>\n",
       "      <td>-1.545397e+07</td>\n",
       "      <td>4.945983</td>\n",
       "      <td>0.037692</td>\n",
       "    </tr>\n",
       "    <tr>\n",
       "      <th>18</th>\n",
       "      <td>19</td>\n",
       "      <td>-1.468923e+07</td>\n",
       "      <td>4.948465</td>\n",
       "      <td>0.002482</td>\n",
       "    </tr>\n",
       "    <tr>\n",
       "      <th>19</th>\n",
       "      <td>20</td>\n",
       "      <td>-1.425643e+07</td>\n",
       "      <td>2.946383</td>\n",
       "      <td>2.002082</td>\n",
       "    </tr>\n",
       "    <tr>\n",
       "      <th>20</th>\n",
       "      <td>21</td>\n",
       "      <td>-1.352108e+07</td>\n",
       "      <td>5.158004</td>\n",
       "      <td>2.211620</td>\n",
       "    </tr>\n",
       "    <tr>\n",
       "      <th>21</th>\n",
       "      <td>22</td>\n",
       "      <td>-1.293119e+07</td>\n",
       "      <td>4.362780</td>\n",
       "      <td>0.795224</td>\n",
       "    </tr>\n",
       "    <tr>\n",
       "      <th>22</th>\n",
       "      <td>23</td>\n",
       "      <td>-1.247894e+07</td>\n",
       "      <td>3.497363</td>\n",
       "      <td>0.865417</td>\n",
       "    </tr>\n",
       "    <tr>\n",
       "      <th>23</th>\n",
       "      <td>24</td>\n",
       "      <td>-1.199290e+07</td>\n",
       "      <td>3.894909</td>\n",
       "      <td>0.397545</td>\n",
       "    </tr>\n",
       "    <tr>\n",
       "      <th>24</th>\n",
       "      <td>25</td>\n",
       "      <td>-1.147563e+07</td>\n",
       "      <td>4.313079</td>\n",
       "      <td>0.418170</td>\n",
       "    </tr>\n",
       "    <tr>\n",
       "      <th>25</th>\n",
       "      <td>26</td>\n",
       "      <td>-1.106492e+07</td>\n",
       "      <td>3.578996</td>\n",
       "      <td>0.734083</td>\n",
       "    </tr>\n",
       "    <tr>\n",
       "      <th>26</th>\n",
       "      <td>27</td>\n",
       "      <td>-1.066734e+07</td>\n",
       "      <td>3.593137</td>\n",
       "      <td>0.014141</td>\n",
       "    </tr>\n",
       "    <tr>\n",
       "      <th>27</th>\n",
       "      <td>28</td>\n",
       "      <td>-1.034405e+07</td>\n",
       "      <td>3.030685</td>\n",
       "      <td>0.562451</td>\n",
       "    </tr>\n",
       "    <tr>\n",
       "      <th>28</th>\n",
       "      <td>29</td>\n",
       "      <td>-1.002231e+07</td>\n",
       "      <td>3.110358</td>\n",
       "      <td>0.079672</td>\n",
       "    </tr>\n",
       "  </tbody>\n",
       "</table>\n",
       "</div>"
      ],
      "text/plain": [
       "    Clusters         Score        Var   Var_Diff\n",
       "0          1 -3.812308e+08   0.000000   0.000000\n",
       "1          2 -1.344630e+08  64.729233  64.729233\n",
       "2          3 -8.242405e+07  38.701322  26.027911\n",
       "3          4 -6.010167e+07  27.082371  11.618951\n",
       "4          5 -4.960244e+07  17.469118   9.613253\n",
       "5          6 -4.305429e+07  13.201255   4.267863\n",
       "6          7 -3.808886e+07  11.532959   1.668297\n",
       "7          8 -3.347480e+07  12.113930   0.580971\n",
       "8          9 -3.011317e+07  10.042277   2.071653\n",
       "9         10 -2.710349e+07   9.994562   0.047716\n",
       "10        11 -2.434671e+07  10.171321   0.176760\n",
       "11        12 -2.229941e+07   8.408905   1.762416\n",
       "12        13 -2.056704e+07   7.768708   0.640196\n",
       "13        14 -1.914344e+07   6.921739   0.846969\n",
       "14        15 -1.801725e+07   5.882914   1.038825\n",
       "15        16 -1.709727e+07   5.106085   0.776829\n",
       "16        17 -1.625809e+07   4.908290   0.197794\n",
       "17        18 -1.545397e+07   4.945983   0.037692\n",
       "18        19 -1.468923e+07   4.948465   0.002482\n",
       "19        20 -1.425643e+07   2.946383   2.002082\n",
       "20        21 -1.352108e+07   5.158004   2.211620\n",
       "21        22 -1.293119e+07   4.362780   0.795224\n",
       "22        23 -1.247894e+07   3.497363   0.865417\n",
       "23        24 -1.199290e+07   3.894909   0.397545\n",
       "24        25 -1.147563e+07   4.313079   0.418170\n",
       "25        26 -1.106492e+07   3.578996   0.734083\n",
       "26        27 -1.066734e+07   3.593137   0.014141\n",
       "27        28 -1.034405e+07   3.030685   0.562451\n",
       "28        29 -1.002231e+07   3.110358   0.079672"
      ]
     },
     "execution_count": 13,
     "metadata": {},
     "output_type": "execute_result"
    }
   ],
   "source": [
    "elbow_df2"
   ]
  },
  {
   "cell_type": "code",
   "execution_count": 14,
   "id": "cc602a20",
   "metadata": {
    "scrolled": false
   },
   "outputs": [
    {
     "data": {
      "image/png": "[encoded data removed]",
      "text/plain": [
       "<Figure size 640x480 with 1 Axes>"
      ]
     },
     "metadata": {},
     "output_type": "display_data"
    }
   ],
   "source": [
    "plt.plot(Nc,score2)\n",
    "plt.xlabel('N-Clústeres')\n",
    "plt.ylabel('Score')\n",
    "plt.title('Elbow - df_meteo')\n",
    "plt.axvline(x = n_cluster2+1, color = 'red', label = 'axvline - full height')\n",
    "plt.show()"
   ]
  },
  {
   "cell_type": "code",
   "execution_count": 15,
   "id": "c20b5b67",
   "metadata": {},
   "outputs": [],
   "source": [
    "#Aplicación K-Means\n",
    "kmeans2 = KMeans(n_clusters = n_cluster2+1).fit(X)\n",
    "centroids2 = kmeans2.cluster_centers_\n",
    "\n",
    "# Predicting the clusters\n",
    "labels2 = kmeans2.predict(X)"
   ]
  },
  {
   "cell_type": "code",
   "execution_count": 16,
   "id": "ed5817df",
   "metadata": {},
   "outputs": [
    {
     "data": {
      "text/plain": [
       "(144908, 19)"
      ]
     },
     "execution_count": 16,
     "metadata": {},
     "output_type": "execute_result"
    }
   ],
   "source": [
    "df_meteo = df_meteo.dropna(subset=['LATITUD','LONGITUD','RADIACION','EDAD']).reset_index(drop=True)\n",
    "df_meteo.shape"
   ]
  },
  {
   "cell_type": "code",
   "execution_count": 17,
   "id": "8e6302ba",
   "metadata": {},
   "outputs": [],
   "source": [
    "df_meteo['Cluster'] = labels2"
   ]
  },
  {
   "cell_type": "markdown",
   "id": "dc75aa20",
   "metadata": {},
   "source": [
    "<h3> 3.3. Resultados Clustering. </h3>"
   ]
  },
  {
   "cell_type": "code",
   "execution_count": null,
   "id": "c0bc332f",
   "metadata": {},
   "outputs": [],
   "source": [
    "#Extraer frecuencias por gravedad y cluster\n",
    "dsm = df_sin_meteo[['Cluster','GRAVEDAD']]\n",
    "dsm['Const'] = 1\n",
    "dm = df_meteo[['Cluster','GRAVEDAD']]\n",
    "dm['Const'] = 1"
   ]
  },
  {
   "cell_type": "code",
   "execution_count": 19,
   "id": "180c7642",
   "metadata": {},
   "outputs": [],
   "source": [
    "#dsm.groupby(by=['Cluster','GRAVEDAD']).sum()"
   ]
  },
  {
   "cell_type": "code",
   "execution_count": 20,
   "id": "88f000c8",
   "metadata": {},
   "outputs": [],
   "source": [
    "#dm.groupby(by=['Cluster','GRAVEDAD']).sum()"
   ]
  },
  {
   "cell_type": "code",
   "execution_count": 21,
   "id": "fdcb58b5",
   "metadata": {},
   "outputs": [
    {
     "data": {
      "text/plain": [
       "Index(['ID', 'FECHA', 'HORA', 'CLASE SINIESTRO', 'CHOQUE_CON', 'TIPO LUGAR',\n",
       "       'GRAVEDAD', 'TIPO PERSONA', 'ESTADO PERSONA', 'EDAD', 'SEXO',\n",
       "       'LOCALIDAD', 'LATITUD', 'LONGITUD', 'PERSONAS IMPLICADAS', 'DIA_SEMANA',\n",
       "       'HORA_NOM', 'Cluster'],\n",
       "      dtype='object')"
      ]
     },
     "execution_count": 21,
     "metadata": {},
     "output_type": "execute_result"
    }
   ],
   "source": [
    "df_sin_meteo.columns"
   ]
  },
  {
   "cell_type": "code",
   "execution_count": 22,
   "id": "d50e409e",
   "metadata": {},
   "outputs": [],
   "source": [
    "df_sin_meteo_cluster = df_sin_meteo[['ID','HORA', 'CLASE SINIESTRO', 'CHOQUE_CON', 'TIPO LUGAR','GRAVEDAD', 'TIPO PERSONA', 'EDAD', 'SEXO',\n",
    "       'PERSONAS IMPLICADAS', 'DIA_SEMANA' ,'Cluster', 'LATITUD', 'LONGITUD',]]\n",
    "df_sin_meteo_cluster.to_csv('df_sin_meteo_cluster.csv',index=False,sep=',')"
   ]
  },
  {
   "cell_type": "code",
   "execution_count": 23,
   "id": "f338165a",
   "metadata": {},
   "outputs": [],
   "source": [
    "df_sin_m = df_sin_meteo[['HORA', 'CLASE SINIESTRO', 'CHOQUE_CON', 'TIPO LUGAR',\n",
    "       'GRAVEDAD', 'TIPO PERSONA', 'EDAD', 'SEXO', 'LOCALIDAD', 'LATITUD', 'LONGITUD', 'PERSONAS IMPLICADAS', 'DIA_SEMANA']]\n",
    "df_sin_m.to_csv('df_sin_m.csv',index=False,sep=',')"
   ]
  },
  {
   "cell_type": "markdown",
   "id": "57689b73",
   "metadata": {},
   "source": [
    "#----------------------------"
   ]
  },
  {
   "cell_type": "code",
   "execution_count": 24,
   "id": "a0f7f50e",
   "metadata": {},
   "outputs": [
    {
     "data": {
      "text/plain": [
       "Index(['ID', 'FECHA', 'HORA', 'CLASE SINIESTRO', 'CHOQUE_CON', 'TIPO LUGAR',\n",
       "       'GRAVEDAD', 'TIPO PERSONA', 'ESTADO PERSONA', 'EDAD', 'SEXO',\n",
       "       'LOCALIDAD', 'LATITUD', 'LONGITUD', 'PERSONAS IMPLICADAS', 'DIA_SEMANA',\n",
       "       'HORA_NOM', 'LLUVIA', 'RADIACION', 'Cluster'],\n",
       "      dtype='object')"
      ]
     },
     "execution_count": 24,
     "metadata": {},
     "output_type": "execute_result"
    }
   ],
   "source": [
    "df_meteo.columns"
   ]
  },
  {
   "cell_type": "code",
   "execution_count": 25,
   "id": "b7cdf861",
   "metadata": {},
   "outputs": [],
   "source": [
    "df_meteo_cluster = df_meteo[['ID','HORA', 'CLASE SINIESTRO', 'CHOQUE_CON', 'TIPO LUGAR',\n",
    "       'GRAVEDAD', 'TIPO PERSONA', 'SEXO', 'PERSONAS IMPLICADAS', 'DIA_SEMANA', 'LLUVIA','RADIACION', 'Cluster', 'LATITUD', 'LONGITUD']]\n",
    "df_meteo_cluster.to_csv('df_meteo_cluster.csv',index=False,sep=',')"
   ]
  },
  {
   "cell_type": "code",
   "execution_count": 26,
   "id": "76b28443",
   "metadata": {},
   "outputs": [],
   "source": [
    "df_m = df_meteo[['HORA', 'CLASE SINIESTRO', 'CHOQUE_CON', 'TIPO LUGAR', 'GRAVEDAD', 'TIPO PERSONA', 'EDAD', 'SEXO',\n",
    "       'LOCALIDAD', 'LATITUD', 'LONGITUD', 'PERSONAS IMPLICADAS', 'DIA_SEMANA', 'LLUVIA', 'RADIACION']]\n",
    "df_m.to_csv('df_m.csv',index=False,sep=',')"
   ]
  },
  {
   "cell_type": "code",
   "execution_count": null,
   "id": "a88ab3fa",
   "metadata": {},
   "outputs": [],
   "source": []
  }
 ],
 "metadata": {
  "kernelspec": {
   "display_name": "Python 3 (ipykernel)",
   "language": "python",
   "name": "python3"
  },
  "language_info": {
   "codemirror_mode": {
    "name": "ipython",
    "version": 3
   },
   "file_extension": ".py",
   "mimetype": "text/x-python",
   "name": "python",
   "nbconvert_exporter": "python",
   "pygments_lexer": "ipython3",
   "version": "3.9.13"
  }
 },
 "nbformat": 4,
 "nbformat_minor": 5
}
