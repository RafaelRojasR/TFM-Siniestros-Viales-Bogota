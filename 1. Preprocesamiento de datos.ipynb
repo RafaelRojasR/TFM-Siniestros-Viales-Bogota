{
 "cells": [
  {
   "cell_type": "code",
   "execution_count": 4,
   "id": "b5f2468c",
   "metadata": {},
   "outputs": [],
   "source": [
    "import pandas as pd"
   ]
  },
  {
   "cell_type": "markdown",
   "id": "a6eaffc9",
   "metadata": {},
   "source": [
    "<h2> 1. Preprocesamiento de datos </h2>"
   ]
  },
  {
   "cell_type": "markdown",
   "id": "b3ebd12d",
   "metadata": {},
   "source": [
    "<h3> 1.1 Cargue de bases de datos de siniestralidad vial</h3>"
   ]
  },
  {
   "cell_type": "code",
   "execution_count": 25,
   "id": "51db20c8",
   "metadata": {},
   "outputs": [],
   "source": [
    "#1.1.1 Lectura de datos.\n",
    "actor = pd.read_excel(\"Datos/2015_2019_ACTOR_VIAL.xlsx\")\n",
    "hip = pd.read_excel(\"Datos/2015_2019_HIPOTESIS.xlsx\")\n",
    "sinis =  pd.read_excel(\"Datos/2015_2019_SINIESTRALIDAD.xlsx\")\n",
    "veh =  pd.read_excel(\"Datos/2015_2019_VEHICULOS.xlsx\")\n",
    "coord = pd.read_csv(\"Datos/HISTORICO_SINIESTROS_BOGOTA.csv\")"
   ]
  },
  {
   "cell_type": "code",
   "execution_count": 26,
   "id": "582396af",
   "metadata": {},
   "outputs": [],
   "source": [
    "#- Selección de siniestros del periodo 2015 - 2019\n",
    "coord['ANO_OCURRENCIA_ACC'] = coord['ANO_OCURRENCIA_ACC'].astype(int)\n",
    "coord = coord[coord['ANO_OCURRENCIA_ACC'] <= 2019]"
   ]
  },
  {
   "cell_type": "code",
   "execution_count": 27,
   "id": "9bc980dd",
   "metadata": {},
   "outputs": [
    {
     "name": "stdout",
     "output_type": "stream",
     "text": [
      "- SINIESTROS:  173443 registors.\n",
      "- ACTOR_VIAL:  374078 registros.\n",
      "- HIPÓTESIS:  206669 registros.\n",
      "- VEHICULO:  328390 registros.\n",
      "- COORDENADAS:  158608 registros.\n"
     ]
    }
   ],
   "source": [
    "#1.1.2 Longitud inicial de bases de datos (registros).\n",
    "print(\"- SINIESTROS: \", len(sinis), \"registors.\")\n",
    "print(\"- ACTOR_VIAL: \",len(actor), \"registros.\")\n",
    "print(\"- HIPÓTESIS: \",len(hip), \"registros.\")\n",
    "print(\"- VEHICULO: \",len(veh), \"registros.\")\n",
    "print(\"- COORDENADAS: \",len(coord), \"registros.\")"
   ]
  },
  {
   "cell_type": "markdown",
   "id": "40761690",
   "metadata": {},
   "source": [
    "<h3> 1.2. Completitud de bases descriptivas al ser relacionadas con SINIESTROS </h3>"
   ]
  },
  {
   "cell_type": "code",
   "execution_count": 5,
   "id": "025b07f9",
   "metadata": {},
   "outputs": [
    {
     "name": "stdout",
     "output_type": "stream",
     "text": [
      "-ACTOR_VIAL ID PRESENTES: 137\n",
      "-ACTOR_VIAL ID NO PRESENTES: 0\n",
      "-ACTOR_VIAL ID UNICOS: 374078\n"
     ]
    }
   ],
   "source": [
    "#1.2.1. ACTOR_VIAL y SINIESTRALIDAD\n",
    "print(\"-ACTOR_VIAL ID PRESENTES:\" ,pd.merge(sinis,actor,how='outer',on='CODIGO_SINIESTRO',indicator=True)['_merge'].value_counts()[0])\n",
    "print(\"-ACTOR_VIAL ID NO PRESENTES:\" ,pd.merge(sinis,actor,how='outer',on='CODIGO_SINIESTRO',indicator=True)['_merge'].value_counts()[1])\n",
    "print(\"-ACTOR_VIAL ID UNICOS:\" ,pd.merge(sinis,actor,how='outer',on='CODIGO_SINIESTRO',indicator=True)['_merge'].value_counts()[2])"
   ]
  },
  {
   "cell_type": "code",
   "execution_count": 6,
   "id": "bfa86f02",
   "metadata": {},
   "outputs": [
    {
     "name": "stdout",
     "output_type": "stream",
     "text": [
      "-HIPOTESIS ID PRESENTES: 338\n",
      "-HIPOTESIS ID NO PRESENTES: 0\n",
      "-HIPOTESIS ID UNICOS: 206669\n"
     ]
    }
   ],
   "source": [
    "#1.2.2. HIPÓTESIS y SINIESTRALIDAD\n",
    "print(\"-HIPOTESIS ID PRESENTES:\" ,pd.merge(sinis,hip,how='outer',on='CODIGO_SINIESTRO',indicator=True)['_merge'].value_counts()[0])\n",
    "print(\"-HIPOTESIS ID NO PRESENTES:\" ,pd.merge(sinis,hip,how='outer',on='CODIGO_SINIESTRO',indicator=True)['_merge'].value_counts()[1])\n",
    "print(\"-HIPOTESIS ID UNICOS:\" ,pd.merge(sinis,hip,how='outer',on='CODIGO_SINIESTRO',indicator=True)['_merge'].value_counts()[2])"
   ]
  },
  {
   "cell_type": "code",
   "execution_count": 7,
   "id": "91b98161",
   "metadata": {},
   "outputs": [
    {
     "name": "stdout",
     "output_type": "stream",
     "text": [
      "-VEHICULOS ID PRESENTES: 137\n",
      "-VEHICULOS ID NO PRESENTES: 0\n",
      "-VEHICULOS ID UNICOS: 328390\n"
     ]
    }
   ],
   "source": [
    "#1.2.3. VEHICULOS y SINIESTRALIDAD\n",
    "print(\"-VEHICULOS ID PRESENTES:\" ,pd.merge(sinis,veh,how='outer',on='CODIGO_SINIESTRO',indicator=True)['_merge'].value_counts()[0])\n",
    "print(\"-VEHICULOS ID NO PRESENTES:\" ,pd.merge(sinis,veh,how='outer',on='CODIGO_SINIESTRO',indicator=True)['_merge'].value_counts()[1])\n",
    "print(\"-VEHICULOS ID UNICOS:\" ,pd.merge(sinis,veh,how='outer',on='CODIGO_SINIESTRO',indicator=True)['_merge'].value_counts()[2])"
   ]
  },
  {
   "cell_type": "code",
   "execution_count": 8,
   "id": "a061cc33",
   "metadata": {},
   "outputs": [
    {
     "name": "stdout",
     "output_type": "stream",
     "text": [
      "-COORDENADAS ID PRESENTES: 14836\n",
      "-COORDENADAS ID NO PRESENTES: 1\n",
      "-COORDENADAS ID UNICOS: 158607\n"
     ]
    }
   ],
   "source": [
    "#1.2.4. COORDENADAS y SINIESTRALIDAD\n",
    "print(\"-COORDENADAS ID PRESENTES:\" ,pd.merge(sinis,coord,left_on=\"CODIGO_SINIESTRO\",right_on=\"CODIGO_ACCIDENTE\",how='outer',indicator=True)['_merge'].value_counts()[0])\n",
    "print(\"-COORDENADAS ID NO PRESENTES:\" ,pd.merge(sinis,coord,left_on=\"CODIGO_SINIESTRO\",right_on=\"CODIGO_ACCIDENTE\",how='outer',indicator=True)['_merge'].value_counts()[1])\n",
    "print(\"-COORDENADAS ID UNICOS:\" ,pd.merge(sinis,coord,left_on=\"CODIGO_SINIESTRO\",right_on=\"CODIGO_ACCIDENTE\",how='outer',indicator=True)['_merge'].value_counts()[2])"
   ]
  },
  {
   "cell_type": "markdown",
   "id": "b5045041",
   "metadata": {},
   "source": [
    "<h3> 1.3. JOIN DE BASES CON SINIESTROS: OBTENCIÓN DE BASE GLOBAL </h3>"
   ]
  },
  {
   "cell_type": "code",
   "execution_count": 10,
   "id": "a34e3cad",
   "metadata": {},
   "outputs": [],
   "source": [
    "#1.3.1. Join con ACTOR_VIAL\n",
    "\n",
    "##- Unión de solo siniestros coincidentes.\n",
    "df = pd.merge(sinis,actor,how='inner',on='CODIGO_SINIESTRO',indicator=True).drop(columns=['_merge','FECHA_y']).reset_index(drop=True)\n",
    "\n",
    "##- Extracción de datos no coincidentes.\n",
    "actor_notin_siniestros = pd.merge(sinis,actor,how='outer',on='CODIGO_SINIESTRO',indicator=True).query('_merge == \"left_only\"').drop(columns=['_merge'])\n",
    "actor_notin_siniestros.to_excel(\"Datos/2015_2019_ACTOR_VIAL (NO COINCIDENTE).xlsx\")"
   ]
  },
  {
   "cell_type": "code",
   "execution_count": 11,
   "id": "1379aa7f",
   "metadata": {},
   "outputs": [],
   "source": [
    "#1.3.2. Join con HIPÓTESIS\n",
    "\n",
    "##- Unión de solo siniestros coincidentes.\n",
    "df = pd.merge(df,hip,how='inner',on='CODIGO_SINIESTRO',indicator=True).drop(columns=['_merge','FECHA_x']).reset_index(drop=True)\n",
    "\n",
    "##- Extracción de datos no coincidentes.\n",
    "hip_notin_siniestros = pd.merge(sinis,hip,how='outer',on='CODIGO_SINIESTRO',indicator=True).query('_merge == \"left_only\"').drop(columns=['_merge'])\n",
    "hip_notin_siniestros.to_excel(\"Datos/2015_2019_HIPOTESIS (NO COINCIDENTE).xlsx\")"
   ]
  },
  {
   "cell_type": "code",
   "execution_count": 12,
   "id": "dfeb75c0",
   "metadata": {},
   "outputs": [],
   "source": [
    "#1.3.3. Join con VEHICULOS\n",
    "\n",
    "##- Unión de solo siniestros coincidentes.\n",
    "df = pd.merge(df,veh,how='inner',on='CODIGO_SINIESTRO',indicator=True).drop(columns=['_merge','FECHA_y']).reset_index(drop=True)\n",
    "\n",
    "##- Extracción de datos no coincidentes.\n",
    "veh_notin_siniestros = pd.merge(sinis,veh,how='outer',on='CODIGO_SINIESTRO',indicator=True).query('_merge == \"left_only\"').drop(columns=['_merge'])\n",
    "veh_notin_siniestros.to_excel(\"Datos/2015_2019_VEHICULOS (NO COINCIDENTE).xlsx\")"
   ]
  },
  {
   "cell_type": "code",
   "execution_count": 13,
   "id": "4a97247a",
   "metadata": {},
   "outputs": [],
   "source": [
    "#1.3.4. Join con COORDENADAS\n",
    "\n",
    "##- Extracción de columnas de interes para el join\n",
    "coord = coord[['LATITUD','LONGITUD','CODIGO_ACCIDENTE']]\n",
    "coord = coord.rename(columns = {'CODIGO_ACCIDENTE':'CODIGO_SINIESTRO'})\n",
    "coord = coord.reset_index(drop=True)\n",
    "\n",
    "##- Unión de solo siniestros coincidentes.\n",
    "df = pd.merge(df,coord,how='left',on='CODIGO_SINIESTRO').reset_index(drop=True)\n",
    "\n",
    "##- Extracción de datos no coincidentes.\n",
    "coord_notin_siniestros = pd.merge(sinis,coord,how='outer',on='CODIGO_SINIESTRO',indicator=True).query('_merge == \"left_only\"').drop(columns=['_merge'])\n",
    "coord_notin_siniestros.to_excel(\"Datos/2015_2019_COORDENADAS (NO COINCIDENTE).xlsx\")"
   ]
  },
  {
   "cell_type": "code",
   "execution_count": 14,
   "id": "badab95c",
   "metadata": {},
   "outputs": [
    {
     "name": "stdout",
     "output_type": "stream",
     "text": [
      "- Base consolidada DF:  878789 registros.\n",
      "- Siniestros únicos: 173039.\n"
     ]
    }
   ],
   "source": [
    "#1.3.5. Resultado de la unión.\n",
    "print(\"- Base consolidada DF: \",len(df),\"registros.\")\n",
    "print(\"- Siniestros únicos: \",len(df['CODIGO_SINIESTRO'].unique()),\".\", sep=\"\")"
   ]
  },
  {
   "cell_type": "markdown",
   "id": "4a33d2eb",
   "metadata": {},
   "source": [
    "<h3> 1.4. CARGUE Y TRATAMIENTO DE DATOS METEREOLÓGICOS </h3>"
   ]
  },
  {
   "cell_type": "code",
   "execution_count": null,
   "id": "f8ff2dd1",
   "metadata": {},
   "outputs": [],
   "source": [
    "#1.4.1. Cargue de datos metereológicos de 2017 a 2019\n",
    "\n",
    "met17 = pd.read_excel(\"Datos RMCAB/MonitorsReport_2017.xlsx\",skiprows=1,usecols=[\"Fecha\",\"Precipitacion (mm) - PROM\",\"Temp (°C) - PROM\",\"Rad. Solar (W/M²) - PROM\"],na_values=[''])\n",
    "met18 = pd.read_excel(\"Datos RMCAB/MonitorsReport_2018.xlsx\",skiprows=1,usecols=[\"Fecha\",\"Precipitacion (mm) - PROM\",\"Temp (°C) - PROM\",\"Rad. Solar (W/M²) - PROM\"],na_values=[''])\n",
    "met19 = pd.read_excel(\"Datos RMCAB/MonitorsReport_2019.xlsx\",skiprows=1,usecols=[\"Fecha\",\"Precipitacion (mm) - PROM\",\"Temp (°C) - PROM\",\"Rad. Solar (W/M²) - PROM\"],na_values=[''])\n",
    "\n",
    "print(\"- Se han cargado 2017:\",len(met17),\"días.\")\n",
    "print(\"- Se han cargado 2018:\",len(met18),\"días.\")\n",
    "print(\"- Se han cargado 2019:\",len(met19),\"días.\")"
   ]
  },
  {
   "cell_type": "code",
   "execution_count": null,
   "id": "b048e89d",
   "metadata": {},
   "outputs": [],
   "source": [
    "#Consolidación y agregación de los datos\n",
    "datos_meteo = pd.concat([met17,met18,met19]).reset_index(drop=True)"
   ]
  },
  {
   "cell_type": "code",
   "execution_count": null,
   "id": "e2015831",
   "metadata": {},
   "outputs": [],
   "source": [
    "datos_meteo.to_excel(\"Datos RMCAB/Datos Meteorólogicos Bogotá, 2017 - 2019.xlsx\")"
   ]
  },
  {
   "cell_type": "markdown",
   "id": "7a5d3c62",
   "metadata": {},
   "source": [
    "<h3> 1.5. CONJUNTO DF: SELECCIÓN DE COLUMNAS </h3>"
   ]
  },
  {
   "cell_type": "code",
   "execution_count": null,
   "id": "29a36771",
   "metadata": {},
   "outputs": [],
   "source": [
    "#1.5.1. Renombre de atributos:\n",
    "df = df.rename(columns={'CODIGO_SINIESTRO':'ID', \n",
    "                  'CLASE_x':'CLASE SINIESTRO',\n",
    "                  'TOTAL_MUERTOS':'FALLECIDOS',\n",
    "                  'TOTAL_HERIDOS':'HERIDOS',\n",
    "                  'DISENO_LUGAR':'TIPO LUGAR',\n",
    "                  'CONDICION':'TIPO PERSONA',\n",
    "                  'ESTADO': 'ESTADO PERSONA',\n",
    "                  'FECHA_x': 'FECHA',\n",
    "                  'DESCRIPCION':'CAUSA ACCIDENTE',\n",
    "                  'CLASE_y':'TIPO VEHICULO',\n",
    "                  'SERVICIO':'CLASE VEHICULO'})"
   ]
  },
  {
   "cell_type": "code",
   "execution_count": null,
   "id": "f4c703a7",
   "metadata": {},
   "outputs": [],
   "source": [
    "#1.5.2. Selección de atributos:\n",
    "df = df[['ID','FECHA','HORA','CLASE SINIESTRO','CHOQUE_CON','OBJETO_FIJO','TIPO LUGAR',\n",
    "      'GRAVEDAD','TIPO PERSONA','TIPO VEHICULO','CLASE VEHICULO','ESTADO PERSONA',\n",
    "      'EDAD','SEXO','HERIDOS','FALLECIDOS','CAUSA ACCIDENTE','LOCALIDAD','DIRECCION',\n",
    "      'ENFUGA','LATITUD','LONGITUD']]"
   ]
  },
  {
   "cell_type": "code",
   "execution_count": null,
   "id": "dc0c4a3a",
   "metadata": {},
   "outputs": [],
   "source": [
    "#1.5.3. Exportación de DF\n",
    "df.to_excel(\"Datos/DF_INICIAL.xlsx\")"
   ]
  },
  {
   "cell_type": "markdown",
   "id": "beb74058",
   "metadata": {},
   "source": [
    "<h3> 1.6. ESTANDARIZACIÓN DE VARIABLES </h3>"
   ]
  },
  {
   "cell_type": "code",
   "execution_count": 5,
   "id": "f93ed472",
   "metadata": {},
   "outputs": [],
   "source": [
    "from datetime import datetime\n",
    "import numpy as np"
   ]
  },
  {
   "cell_type": "code",
   "execution_count": 6,
   "id": "689bb031",
   "metadata": {},
   "outputs": [],
   "source": [
    "#1.6.1. Lectura de conjunto DF\n",
    "datos = pd.read_excel(\"Datos/DF_INICIAL.xlsx\")"
   ]
  },
  {
   "cell_type": "code",
   "execution_count": 28,
   "id": "a831419c",
   "metadata": {},
   "outputs": [],
   "source": [
    "df = datos.copy()"
   ]
  },
  {
   "cell_type": "code",
   "execution_count": 29,
   "id": "59cb6d43",
   "metadata": {},
   "outputs": [
    {
     "data": {
      "text/plain": [
       "0              0\n",
       "1              1\n",
       "2              2\n",
       "3              3\n",
       "4              4\n",
       "           ...  \n",
       "878784    878784\n",
       "878785    878785\n",
       "878786    878786\n",
       "878787    878787\n",
       "878788    878788\n",
       "Name: Unnamed: 0, Length: 878789, dtype: int64"
      ]
     },
     "execution_count": 29,
     "metadata": {},
     "output_type": "execute_result"
    }
   ],
   "source": [
    "#Eliminar indice\n",
    "df.pop(df.columns[0])"
   ]
  },
  {
   "cell_type": "code",
   "execution_count": 30,
   "id": "117ce97f",
   "metadata": {},
   "outputs": [
    {
     "name": "stdout",
     "output_type": "stream",
     "text": [
      "Longitud inicial: 878789\n",
      "Longitud: 878789\n",
      "Longitud sin duplicados: 430024\n"
     ]
    }
   ],
   "source": [
    "#Eliminar atributo CLASE VEHICULO y TIPO VEHICULO\n",
    "df = df.drop('CLASE VEHICULO', axis=1)\n",
    "print(f\"Longitud inicial: {len(df)}\")\n",
    "\n",
    "df = df.drop('TIPO VEHICULO', axis=1)\n",
    "print(f\"Longitud: {len(df)}\")\n",
    "\n",
    "#Eliminar registros duplicados\n",
    "df = df.drop_duplicates()\n",
    "print(f\"Longitud sin duplicados: {len(df)}\")\n",
    "\n",
    "df = df.reset_index(drop=True)"
   ]
  },
  {
   "cell_type": "code",
   "execution_count": 31,
   "id": "3739af76",
   "metadata": {},
   "outputs": [],
   "source": [
    "#Personas Implicadas\n",
    "personas = df['ID'].value_counts().rename_axis('ID').reset_index(name='PERSONAS IMPLICADAS')\n",
    "df = pd.merge(df,personas,how='inner',on='ID').reset_index(drop=True)"
   ]
  },
  {
   "cell_type": "code",
   "execution_count": null,
   "id": "f2e42f97",
   "metadata": {},
   "outputs": [],
   "source": [
    "#Reemplazar fecha y cambiar formato para obtener día de la semana\n",
    "df['FECHA'] = pd.to_datetime(df['FECHA'])\n",
    "\n",
    "#Obtener día de la semana y categorizar en día laboral o fin de semana\n",
    "df['DIA_SEMANA'] = df['FECHA'].dt.dayofweek\n",
    "df[\"DIA_SEMANA\"] = np.where(df[\"DIA_SEMANA\"]<5, \"LABORAL\", \"FDS\")\n",
    "\n",
    "#Extraer la hora del día\n",
    "for i in range(len(df)):\n",
    "    df.loc[i,'HORA_NOM'] = df.loc[i,'HORA'].split(\":\",1)[0]\n",
    "\n",
    "df['HORA_NOM'] = pd.to_numeric(df['HORA_NOM'])\n",
    "\n",
    "#Divir el día en 4 fracciones de acuerdo a la hora\n",
    "for i in range(len(df)):\n",
    "    if (df.loc[i,'HORA_NOM'] <= 6) and (df.loc[i,'HORA_NOM'] > 0):\n",
    "        df.loc[i,'HORA'] = \"Madrugada\"\n",
    "        \n",
    "    elif (df.loc[i,'HORA_NOM'] <= 12) and (df.loc[i,'HORA_NOM'] > 6):\n",
    "        df.loc[i,'HORA'] = \"Mañana\"\n",
    "        \n",
    "    elif (df.loc[i,'HORA_NOM'] <= 18) and (df.loc[i,'HORA_NOM'] > 12):\n",
    "        df.loc[i,'HORA'] = \"Tarde\"\n",
    "        \n",
    "    elif (df.loc[i,'HORA_NOM'] > 18) or (df.loc[i,'HORA_NOM'] == 0):\n",
    "        df.loc[i,'HORA'] = \"Anochecer\""
   ]
  },
  {
   "cell_type": "code",
   "execution_count": 33,
   "id": "e678c162",
   "metadata": {},
   "outputs": [
    {
     "data": {
      "text/plain": [
       "Index(['ID', 'FECHA', 'HORA', 'CLASE SINIESTRO', 'CHOQUE_CON', 'OBJETO_FIJO',\n",
       "       'TIPO LUGAR', 'GRAVEDAD', 'TIPO PERSONA', 'ESTADO PERSONA', 'EDAD',\n",
       "       'SEXO', 'HERIDOS', 'FALLECIDOS', 'CAUSA ACCIDENTE', 'LOCALIDAD',\n",
       "       'DIRECCION', 'ENFUGA', 'LATITUD', 'LONGITUD', 'PERSONAS IMPLICADAS',\n",
       "       'DIA_SEMANA', 'HORA_NOM'],\n",
       "      dtype='object')"
      ]
     },
     "execution_count": 33,
     "metadata": {},
     "output_type": "execute_result"
    }
   ],
   "source": [
    "df.columns"
   ]
  },
  {
   "cell_type": "code",
   "execution_count": 34,
   "id": "c6a36363",
   "metadata": {},
   "outputs": [],
   "source": [
    "#Eliminar registros de choques con semovientes y tren\n",
    "df = df[(df['CHOQUE_CON'] == 'Vehiculo') | (df['CHOQUE_CON'] == 'Objeto Fijo')]\n",
    "\n",
    "#Eliminar la variable OBJETO_FIJO\n",
    "df = df.drop('OBJETO_FIJO', axis=1)"
   ]
  },
  {
   "cell_type": "code",
   "execution_count": 35,
   "id": "62e829a1",
   "metadata": {},
   "outputs": [],
   "source": [
    "#Agrupar el tipo de lugar\n",
    "df.loc[(df['TIPO LUGAR'] == 'Tramo de Via') | (df['TIPO LUGAR'] == 'Via troncal'), 'TIPO LUGAR'] = \"Via\"\n",
    "df.loc[(df['TIPO LUGAR'] == 'Interseccion') | (df['TIPO LUGAR'] == 'Glorieta') | (df['TIPO LUGAR'] == 'Paso a nivel') , 'TIPO LUGAR'] = \"Intersección\"\n",
    "df.loc[(df['TIPO LUGAR'] == 'Paso elevado') | (df['TIPO LUGAR'] == 'Puente') , 'TIPO LUGAR'] = \"Puente\"\n",
    "df.loc[(df['TIPO LUGAR'] == 'Tunel') | (df['TIPO LUGAR'] == 'Ponton') , 'TIPO LUGAR'] = \"Tunel\"\n",
    "df.loc[(df['TIPO LUGAR'] == 'Cicloruta') | (df['TIPO LUGAR'] == 'Via peatonal') , 'TIPO LUGAR'] = \"Peatonal / Cicloruta\""
   ]
  },
  {
   "cell_type": "code",
   "execution_count": 36,
   "id": "1e9a0b0c",
   "metadata": {},
   "outputs": [],
   "source": [
    "#Suprimir personas sin estado\n",
    "df = df[df['ESTADO PERSONA'] != 'SIN INFORMACION']\n",
    "df = df.reset_index(drop=True)"
   ]
  },
  {
   "cell_type": "code",
   "execution_count": 37,
   "id": "7d369d34",
   "metadata": {},
   "outputs": [],
   "source": [
    "#Agrupación por grupos de edades\n",
    "#df['EDAD'] = pd.to_numeric(df['EDAD'])\n",
    "\n",
    "#for i in range(len(df)):\n",
    "#    if df.loc[i,'EDAD'] <= 9:\n",
    "#        df.loc[i,'EDAD'] = \"Niño\"\n",
    "#    elif (df.loc[i,'EDAD'] <= 19) & (df.loc[i,'EDAD'] > 9):\n",
    "#         df.loc[i,'EDAD'] = \"Joven\"\n",
    "#     elif (df.loc[i,'EDAD'] <= 34) & (df.loc[i,'EDAD'] > 19):\n",
    "#         df.loc[i,'EDAD'] = \"Adulto Joven\"\n",
    "#     elif (df.loc[i,'EDAD'] <= 60) & (df.loc[i,'EDAD'] > 34):\n",
    "#         df.loc[i,'EDAD'] = \"Adulto\"\n",
    "#     elif df.loc[i,'EDAD'] > 60:\n",
    "#         df.loc[i,'EDAD'] = \"Adulto Mayor\"\n",
    "#     else:\n",
    "#         df.loc[i,'EDAD'] = \"\""
   ]
  },
  {
   "cell_type": "code",
   "execution_count": 38,
   "id": "417f1374",
   "metadata": {},
   "outputs": [],
   "source": [
    "#Eliminar la variable CAUSA_ACCIDENTE, ENFUGA, DIRECCIÓN, HERIDOS Y FALLECIDOS\n",
    "df = df.drop('CAUSA ACCIDENTE', axis=1)\n",
    "df = df.drop('ENFUGA', axis=1)\n",
    "df = df.drop('HERIDOS', axis=1)\n",
    "df = df.drop('FALLECIDOS', axis=1)\n",
    "df = df.drop('DIRECCION', axis=1)"
   ]
  },
  {
   "cell_type": "code",
   "execution_count": 39,
   "id": "b53d82e6",
   "metadata": {},
   "outputs": [],
   "source": [
    "#Agrupación de localidades por zonas\n",
    "df.loc[(df['LOCALIDAD'] == 'Suba') | (df['LOCALIDAD'] == 'Usaquén')  | (df['LOCALIDAD'] == 'Barrios Unidos')  | (df['LOCALIDAD'] == 'Chapinero'), 'LOCALIDAD'] = \"Zona Norte\"\n",
    "df.loc[(df['LOCALIDAD'] == 'Rafael Uribe Uribe') | (df['LOCALIDAD'] == 'Tunjuelito')  | (df['LOCALIDAD'] == 'Ciudad Bolívar')  | (df['LOCALIDAD'] == 'Bosa') | (df['LOCALIDAD'] == 'Sumapaz'), 'LOCALIDAD'] = \"Zona Sur\"\n",
    "df.loc[(df['LOCALIDAD'] == 'La Candelaria') | (df['LOCALIDAD'] == 'Santa Fe')  | (df['LOCALIDAD'] == 'San Cristóbal')  | (df['LOCALIDAD'] == 'Usme'), 'LOCALIDAD'] = \"Zona Oriente\"\n",
    "df.loc[(df['LOCALIDAD'] == 'Engativá') | (df['LOCALIDAD'] == 'Fontibón')  | (df['LOCALIDAD'] == 'Kennedy'), 'LOCALIDAD'] = \"Zona Occidente\"\n",
    "df.loc[(df['LOCALIDAD'] == 'Puente Aranda') | (df['LOCALIDAD'] == 'Los Mártires')  | (df['LOCALIDAD'] == 'Antonio Nariño') | (df['LOCALIDAD'] == 'Teusaquillo'), 'LOCALIDAD'] = \"Zona Centro\""
   ]
  },
  {
   "cell_type": "code",
   "execution_count": 40,
   "id": "1d8ceacd",
   "metadata": {},
   "outputs": [],
   "source": [
    "#Meteorología 2017 - 2019:\n",
    "meteo = pd.read_excel(\"Datos Modelamiento/Variables Meteórologicas.xlsx\")"
   ]
  },
  {
   "cell_type": "code",
   "execution_count": 41,
   "id": "119564a8",
   "metadata": {},
   "outputs": [],
   "source": [
    "#Generación de dataframes\n",
    "df_con_meteo = pd.merge(df,meteo,on=\"FECHA\",how=\"inner\").reset_index(drop=True)\n",
    "df_sin_meteo = df.copy().reset_index(drop=True)"
   ]
  },
  {
   "cell_type": "code",
   "execution_count": 42,
   "id": "e9c09f16",
   "metadata": {},
   "outputs": [],
   "source": [
    "df_con_meteo = df_con_meteo.rename(columns={'Precipitacion (mm) - PROM':'LLUVIA', 'Rad. Solar (W/M²) - PROM':'RADIACION'})"
   ]
  },
  {
   "cell_type": "code",
   "execution_count": 43,
   "id": "8903fcd7",
   "metadata": {},
   "outputs": [],
   "source": [
    "#Transformación de precipitación\n",
    "for i in range(len(df_con_meteo)):\n",
    "    if df_con_meteo.loc[i,'LLUVIA'] > 2.0:\n",
    "        df_con_meteo.loc[i,'LLUVIA'] = \"TRUE\"\n",
    "    else:\n",
    "        df_con_meteo.loc[i,'LLUVIA'] = \"FALSE\""
   ]
  },
  {
   "cell_type": "markdown",
   "id": "048b1cdb",
   "metadata": {},
   "source": [
    "<h3> 1.7. ORDEN Y EXPORTACIÓN DE CONJUNTOS DE DATOS </h3>"
   ]
  },
  {
   "cell_type": "code",
   "execution_count": 44,
   "id": "4537d667",
   "metadata": {},
   "outputs": [
    {
     "data": {
      "text/plain": [
       "Index(['ID', 'FECHA', 'HORA', 'CLASE SINIESTRO', 'CHOQUE_CON', 'TIPO LUGAR',\n",
       "       'GRAVEDAD', 'TIPO PERSONA', 'ESTADO PERSONA', 'EDAD', 'SEXO',\n",
       "       'LOCALIDAD', 'LATITUD', 'LONGITUD', 'PERSONAS IMPLICADAS', 'DIA_SEMANA',\n",
       "       'HORA_NOM', 'LLUVIA', 'RADIACION'],\n",
       "      dtype='object')"
      ]
     },
     "execution_count": 44,
     "metadata": {},
     "output_type": "execute_result"
    }
   ],
   "source": [
    "#Conjunto de datos con variables meteorólogicas y ventana de tiempo 2017 - 2019\n",
    "df_con_meteo.columns"
   ]
  },
  {
   "cell_type": "code",
   "execution_count": 45,
   "id": "4f62ce9e",
   "metadata": {},
   "outputs": [
    {
     "data": {
      "text/plain": [
       "Index(['ID', 'FECHA', 'HORA', 'CLASE SINIESTRO', 'CHOQUE_CON', 'TIPO LUGAR',\n",
       "       'GRAVEDAD', 'TIPO PERSONA', 'ESTADO PERSONA', 'EDAD', 'SEXO',\n",
       "       'LOCALIDAD', 'LATITUD', 'LONGITUD', 'PERSONAS IMPLICADAS', 'DIA_SEMANA',\n",
       "       'HORA_NOM'],\n",
       "      dtype='object')"
      ]
     },
     "execution_count": 45,
     "metadata": {},
     "output_type": "execute_result"
    }
   ],
   "source": [
    "#Conjunto de datos sin variables meteorológicas y ventana de tiempo 2015 - 2019\n",
    "df_sin_meteo.columns"
   ]
  },
  {
   "cell_type": "code",
   "execution_count": 46,
   "id": "13e1dcf8",
   "metadata": {},
   "outputs": [
    {
     "name": "stdout",
     "output_type": "stream",
     "text": [
      "Con var. meteo:  (160838, 19)\n",
      "Sin Var. meteo:  (356397, 17)\n"
     ]
    }
   ],
   "source": [
    "print(\"Con var. meteo: \",df_con_meteo.shape)\n",
    "print(\"Sin Var. meteo: \",df_sin_meteo.shape)"
   ]
  },
  {
   "cell_type": "code",
   "execution_count": 47,
   "id": "e9d3aa99",
   "metadata": {},
   "outputs": [],
   "source": [
    "#Exportación de datos\n",
    "df_con_meteo.to_excel(\"Datos/DF_Meteo.xlsx\",index=False)\n",
    "df_sin_meteo.to_excel(\"Datos/DF_SIN_Meteo.xlsx\",index=False)"
   ]
  },
  {
   "cell_type": "code",
   "execution_count": 48,
   "id": "cbacdf21",
   "metadata": {},
   "outputs": [],
   "source": [
    "df_con_meteo.to_csv(\"Datos/DF_Meteo.csv\",index=False,sep=',')\n",
    "df_sin_meteo.to_csv(\"Datos/DF_SIN_Meteo.csv\",index=False,sep=',')"
   ]
  },
  {
   "cell_type": "code",
   "execution_count": null,
   "id": "5b2a5637",
   "metadata": {},
   "outputs": [],
   "source": []
  }
 ],
 "metadata": {
  "kernelspec": {
   "display_name": "Python 3 (ipykernel)",
   "language": "python",
   "name": "python3"
  },
  "language_info": {
   "codemirror_mode": {
    "name": "ipython",
    "version": 3
   },
   "file_extension": ".py",
   "mimetype": "text/x-python",
   "name": "python",
   "nbconvert_exporter": "python",
   "pygments_lexer": "ipython3",
   "version": "3.9.13"
  }
 },
 "nbformat": 4,
 "nbformat_minor": 5
}
